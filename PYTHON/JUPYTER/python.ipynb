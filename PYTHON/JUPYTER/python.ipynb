{
 "cells": [
  {
   "cell_type": "code",
   "execution_count": 1,
   "metadata": {},
   "outputs": [
    {
     "name": "stdout",
     "output_type": "stream",
     "text": [
      "Hello, World\n"
     ]
    }
   ],
   "source": [
    "print(\"Hello, World\")"
   ]
  },
  {
   "cell_type": "code",
   "execution_count": 5,
   "metadata": {},
   "outputs": [
    {
     "name": "stdout",
     "output_type": "stream",
     "text": [
      "<class 'int'>\n",
      "<class 'float'>\n",
      "<class 'str'>\n",
      "<class 'bool'>\n",
      "<class 'NoneType'>\n"
     ]
    }
   ],
   "source": [
    "# variables and types\n",
    "a = 28\n",
    "b = 1.5\n",
    "c = 'Hello!'\n",
    "d = True\n",
    "e = None\n",
    "\n",
    "print(type(a))\n",
    "print(type(b))\n",
    "print(type(c))\n",
    "print(type(d))\n",
    "print(type(e))"
   ]
  },
  {
   "cell_type": "code",
   "execution_count": 8,
   "metadata": {},
   "outputs": [
    {
     "name": "stdout",
     "output_type": "stream",
     "text": [
      "Hello, Asyikin\n",
      "Hello, Asyikin\n"
     ]
    }
   ],
   "source": [
    "# user input\n",
    "name = input(\"What is your name? ---> \")\n",
    "print('Hello, ' + name)\n",
    "print(f'Hello, {name}')"
   ]
  },
  {
   "cell_type": "code",
   "execution_count": 17,
   "metadata": {},
   "outputs": [
    {
     "name": "stdout",
     "output_type": "stream",
     "text": [
      "22 is a positive number\n"
     ]
    }
   ],
   "source": [
    "# conditions\n",
    "# input will always return a string, in order to make the program works and print the result out, \n",
    "# I have to convert it into an integer using int()\n",
    "\n",
    "n = int(input(\"Numbers: \"))\n",
    "if n > 0:\n",
    "    print(f'{n} is a positive number')\n",
    "elif n < 0:\n",
    "    print(f'{n} is a negative number')\n",
    "else:\n",
    "    print(f\"This number is zero\")"
   ]
  },
  {
   "cell_type": "markdown",
   "metadata": {},
   "source": [
    "**DATA STRUCTURES**\n",
    "- LIST = A sequence of mutable values []\n",
    "- TUPLE = A sequence of immutable values ()\n",
    "- SET = A collection of unique values {}\n",
    "- DICT = A collection of key-value pairs"
   ]
  },
  {
   "cell_type": "code",
   "execution_count": 41,
   "metadata": {},
   "outputs": [
    {
     "name": "stdout",
     "output_type": "stream",
     "text": [
      "Asyikin\n",
      "First character of the name is: A\n",
      "The last 3 character of the name is: k\n",
      "['Liam', 'Austin', 'Lily']\n",
      "The first item in the lists is: Liam\n",
      "The second item in the lists is: Austin\n",
      "This is the new set of names after I added a name using append():\n",
      "['Liam', 'Austin', 'Lily', 'Asyikin']\n",
      "['Asyikin', 'Austin', 'Liam', 'Lily']\n"
     ]
    }
   ],
   "source": [
    "#Sequences and Loops\n",
    "name = 'Asyikin'\n",
    "\n",
    "print(name)\n",
    "print(f'First character of the name is: {name[0]}')\n",
    "print(f'The last 3 character of the name is: {name[-3]}')\n",
    "\n",
    "names = ['Liam', 'Austin', 'Lily']\n",
    "print(names)\n",
    "print(f'The first item in the lists is: {names[0]}')\n",
    "print(f'The second item in the lists is: {names[1]}')\n",
    "names.append(\"Asyikin\")\n",
    "print(f'This is the new set of names after I added a name using append():\\n{names}')\n",
    "names.sort()\n",
    "print(names)\n",
    "\n",
    "#TUPLE - values that are immutable - do not change\n",
    "coordinateX = 5.0\n",
    "coordinateY = 10.0\n",
    "\n",
    "coordinate = (5.0, 10.0)\n",
    "\n",
    "# lists \n"
   ]
  },
  {
   "cell_type": "code",
   "execution_count": 51,
   "metadata": {},
   "outputs": [
    {
     "name": "stdout",
     "output_type": "stream",
     "text": [
      "{1, 2, 3, 4, 5}\n",
      "No element will ever appear twice as sets will only grab unique values\n",
      "I have remove 5 from the set and this is what the new sets look like:\n",
      "{1, 2, 3, 4}\n",
      "There are 4 items in this set.\n"
     ]
    }
   ],
   "source": [
    "#sets\n",
    "s = set()\n",
    "\n",
    "s.add(1)\n",
    "s.add(2)\n",
    "s.add(3)\n",
    "s.add(4)\n",
    "s.add(5)\n",
    "s.add(1)\n",
    "\n",
    "print(s)\n",
    "print('No element will ever appear twice as sets will only grab unique values')\n",
    "\n",
    "s.remove(5)\n",
    "print(f'I have remove 5 from the set and this is what the new sets look like:\\n{s}')\n",
    "\n",
    "#len()\n",
    "print(f'There are {len(s)} items in this set.')"
   ]
  },
  {
   "cell_type": "code",
   "execution_count": 59,
   "metadata": {},
   "outputs": [
    {
     "name": "stdout",
     "output_type": "stream",
     "text": [
      "0\n",
      "1\n",
      "2\n",
      "3\n",
      "4\n",
      "5\n",
      "\n",
      "Looping with range()\n",
      "0\n",
      "1\n",
      "2\n",
      "3\n",
      "\n",
      "Looping with lists()\n",
      "Liam\n",
      "Austin\n",
      "Lily\n",
      "\n",
      "Looping every character in a string\n",
      "A\n",
      "s\n",
      "y\n",
      "i\n",
      "k\n",
      "i\n",
      "n\n"
     ]
    }
   ],
   "source": [
    "#Loops\n",
    "for i in [0, 1, 2, 3, 4, 5]:\n",
    "    print(i)\n",
    "\n",
    "print('\\nLooping with range()')\n",
    "for i in range (4):\n",
    "    print(i)\n",
    "    \n",
    "print('\\nLooping with lists()')\n",
    "names = ['Liam', 'Austin', 'Lily']\n",
    "for name in names:\n",
    "    print(name)\n",
    "\n",
    "print('\\nLooping every character in a string')\n",
    "name = 'Asyikin'\n",
    "for char in name:\n",
    "    print (char)"
   ]
  },
  {
   "cell_type": "code",
   "execution_count": 64,
   "metadata": {},
   "outputs": [
    {
     "name": "stdout",
     "output_type": "stream",
     "text": [
      "{'leaf': 'green', 'sea': 'blue', 'soil': 'brown'}\n",
      "brown\n",
      "green\n",
      "blue\n",
      "{'leaf': 'green', 'sea': 'blue', 'soil': 'brown', 'seawater': 'Turquoise'}\n"
     ]
    }
   ],
   "source": [
    "# Dictionaries\n",
    "# Specify a key:value\n",
    "\n",
    "earth = {'leaf': 'green', 'sea': 'blue', 'soil':'brown'}\n",
    "print(earth)\n",
    "print(earth[\"soil\"])\n",
    "print(earth[\"leaf\"])\n",
    "print(earth[\"sea\"])\n",
    "\n",
    "#add another key-value pair\n",
    "earth['seawater'] = \"Turquoise\"\n",
    "print(earth)"
   ]
  },
  {
   "cell_type": "code",
   "execution_count": 74,
   "metadata": {},
   "outputs": [
    {
     "name": "stdout",
     "output_type": "stream",
     "text": [
      "Hasil tambah 0 dengan dirinya sendiri ialah 0\n",
      "Hasil tambah 1 dengan dirinya sendiri ialah 2\n",
      "Hasil tambah 2 dengan dirinya sendiri ialah 4\n",
      "Hasil tambah 3 dengan dirinya sendiri ialah 6\n",
      "Hasil tambah 4 dengan dirinya sendiri ialah 8\n",
      "The square of 0 is 0\n",
      "The square of 1 is 1\n",
      "The square of 2 is 4\n",
      "The square of 3 is 9\n",
      "The square of 4 is 16\n"
     ]
    }
   ],
   "source": [
    "#functions\n",
    "\n",
    "def tambah(a):\n",
    "    return (a + a)\n",
    "\n",
    "def square(a):\n",
    "    return(a ** 2)\n",
    "\n",
    "# print(tambah(10))\n",
    "# print(tambah(99))\n",
    "# print(tambah(1))\n",
    "\n",
    "for i in range (5):\n",
    "    print(f'Hasil tambah {i} dengan dirinya sendiri ialah {tambah(i)}')\n",
    "    \n",
    "for i in range (5):\n",
    "    print(f'The square of {i} is {square(i)}')"
   ]
  },
  {
   "cell_type": "code",
   "execution_count": 6,
   "metadata": {},
   "outputs": [
    {
     "name": "stdout",
     "output_type": "stream",
     "text": [
      "10\n",
      "20\n"
     ]
    }
   ],
   "source": [
    "#Object Oriented Programming =Example 1\n",
    "\n",
    "class Point():\n",
    "    def __init__(self, x, y):\n",
    "        self.x = x\n",
    "        self.y = y\n",
    "\n",
    "p = Point(10, 20)\n",
    "print(p.x)\n",
    "print(p.y)\n"
   ]
  },
  {
   "cell_type": "code",
   "execution_count": 9,
   "metadata": {},
   "outputs": [
    {
     "name": "stdout",
     "output_type": "stream",
     "text": [
      "Country: Malaysia, Continent: Asia, Population: 33,940,000\n",
      "Country: Norway, Continent: Northern Europe, Population: 5,457,000\n"
     ]
    }
   ],
   "source": [
    "#OOP example 2\n",
    "\n",
    "class Country:\n",
    "    def __init__(self, name, continent, population):\n",
    "        self.name = name\n",
    "        self.continent = continent\n",
    "        self.population = population\n",
    "\n",
    "    def __str__(self):\n",
    "        return f'Country: {self.name}, Continent: {self.continent}, Population: {self.population}'\n",
    "\n",
    "my_country = Country('Malaysia', 'Asia', '33,940,000' )\n",
    "your_country = Country('Norway', 'Northern Europe', '5,457,000' )\n",
    "\n",
    "print(my_country)\n",
    "print(your_country)\n"
   ]
  },
  {
   "cell_type": "code",
   "execution_count": 13,
   "metadata": {},
   "outputs": [
    {
     "name": "stdout",
     "output_type": "stream",
     "text": [
      "The 42 watts Fluorescent bulb with white color is now switched on\n",
      "The 42 watts Fluorescent bulb with white color is now switched off\n",
      "The 50 watts Tube bulb with Warm color is now switched on\n",
      "The 50 watts Tube bulb with Warm color is now switched off\n"
     ]
    }
   ],
   "source": [
    "#OOP example 3\n",
    "\n",
    "#define the light bulb class\n",
    "class lightbulb:\n",
    "    def __init__(self, type, watts, color):\n",
    "        self.type = type\n",
    "        self.watts = watts\n",
    "        self.color = color\n",
    "        self.is_on = False\n",
    "\n",
    "    def switchOn(self):\n",
    "        self.is_on = True\n",
    "        print(f'The {self.watts} watts {self.type} bulb with {self.color} color is now switched on')\n",
    "    \n",
    "    def switchOff(self):\n",
    "        self.is_on = False\n",
    "        print(f'The {self.watts} watts {self.type} bulb with {self.color} color is now switched off')\n",
    "\n",
    "# Create instance(objects) of the lightbulb class \n",
    "lightbulb_1 = lightbulb('Fluorescent', 42, 'white')\n",
    "lightbulb_2 = lightbulb('Tube', 50, 'Warm')\n",
    "\n",
    "# use the methods of the lightbulb class\n",
    "lightbulb_1.switchOn()\n",
    "lightbulb_1.switchOff()\n",
    "\n",
    "lightbulb_2.switchOn()\n",
    "lightbulb_2.switchOff()"
   ]
  },
  {
   "cell_type": "code",
   "execution_count": 20,
   "metadata": {},
   "outputs": [
    {
     "name": "stdout",
     "output_type": "stream",
     "text": [
      "Asyikin has been added to the flight succesfully\n",
      "Liam has been added to the flight succesfully\n",
      "There is no available seat for Lily\n",
      "There is no available seat for Austin\n"
     ]
    }
   ],
   "source": [
    "#OOP example 4 - flight booking\n",
    "\n",
    "# create a new flight\n",
    "class Flight():\n",
    "    def __init__(self, capacity):\n",
    "        self.capacity = capacity\n",
    "        self.passengers = []\n",
    "        \n",
    "\n",
    "#add a method to add new passenger\n",
    "    def add_passenger(self, name):\n",
    "        if not self.available_seats():\n",
    "            return False\n",
    "        self.passengers.append(name)\n",
    "        return True\n",
    "\n",
    "#check available seats in the flight\n",
    "    def available_seats(self):\n",
    "        return self.capacity - len(self.passengers)\n",
    "        \n",
    "flight = Flight(2)\n",
    "\n",
    "guests = ['Asyikin', 'Liam', 'Lily', 'Austin']\n",
    "for guest in guests:\n",
    "    Pax_added = flight.add_passenger(guest)\n",
    "    if Pax_added:\n",
    "        print(f'{guest} has been added to the flight succesfully')\n",
    "    else:\n",
    "        print(f'There is no available seat for {guest}')\n",
    "\n"
   ]
  },
  {
   "cell_type": "markdown",
   "metadata": {},
   "source": [
    "**FUNCTIONAL PROGRAMMING**\n",
    "- It's a function that takes an input and returns a modified version of the function as an output\n",
    "- In python, this paradigm is called 'Functional Programming' where functions are themselves values\n",
    "- You can pass it as an input to another funciton, you can get it as the output of another function"
   ]
  },
  {
   "cell_type": "code",
   "execution_count": 25,
   "metadata": {},
   "outputs": [
    {
     "name": "stdout",
     "output_type": "stream",
     "text": [
      "About to run the function...\n",
      "Hello, World!\n",
      "Done with the function.\n"
     ]
    }
   ],
   "source": [
    "# Define a decorator function:\n",
    "\n",
    "def announce(f):\n",
    "    def wrapper():\n",
    "        print('About to run the function...')\n",
    "        f()\n",
    "        print('Done with the function.')\n",
    "    \n",
    "    return wrapper\n",
    "\n",
    "@announce\n",
    "def hello():\n",
    "    print('Hello, World!')\n",
    "\n",
    "hello()"
   ]
  },
  {
   "cell_type": "markdown",
   "metadata": {},
   "source": [
    "**Explanation**\n",
    "- hello function is wrapped around the decorator function = @announce\n",
    "- it took a function and added a capability to it"
   ]
  },
  {
   "cell_type": "markdown",
   "metadata": {},
   "source": [
    "**Lambda function**"
   ]
  },
  {
   "cell_type": "code",
   "execution_count": 34,
   "metadata": {},
   "outputs": [
    {
     "name": "stdout",
     "output_type": "stream",
     "text": [
      "[{'name': 'Asyikin', 'age': 20}, {'name': 'Liam', 'age': 25}, {'name': 'Austin', 'age': 35}]\n"
     ]
    }
   ],
   "source": [
    "people = [\n",
    "    {'name': 'Asyikin', 'age': 20},\n",
    "    {'name': 'Liam', 'age': 25},\n",
    "    {'name': 'Austin', 'age': 35}\n",
    "]\n",
    "\n",
    "# normal way\n",
    "# def f(person):\n",
    "#     # return person[\"name\"]\n",
    "#     return person[\"age\"]\n",
    "# people.sort(key=f)\n",
    "\n",
    "#lambda function\n",
    "# people.sort(key=lambda person: person[\"name\"])\n",
    "people.sort(key=lambda person: person[\"age\"])\n",
    "\n",
    "print(people)\n"
   ]
  },
  {
   "cell_type": "markdown",
   "metadata": {},
   "source": [
    "**EXCEPTIONS**"
   ]
  },
  {
   "cell_type": "code",
   "execution_count": 47,
   "metadata": {},
   "outputs": [
    {
     "name": "stdout",
     "output_type": "stream",
     "text": [
      "You need to enter a number. Try again!\n",
      "Error: Cannot divide by 0. Try another number!\n"
     ]
    }
   ],
   "source": [
    "try: \n",
    "    x = int(input(\"x: \"))\n",
    "    y = int(input(\"y: \"))\n",
    "    \n",
    "except ValueError:\n",
    "    print('You need to enter a number. Try again!')\n",
    "\n",
    "try:\n",
    "    result = x / y\n",
    "\n",
    "except ZeroDivisionError:\n",
    "    print('Error: Cannot divide by 0. Try another number!')\n",
    "\n",
    "else:\n",
    "    print(f'{x} / {y} = {result:.5f}')"
   ]
  },
  {
   "cell_type": "code",
   "execution_count": null,
   "metadata": {},
   "outputs": [],
   "source": []
  }
 ],
 "metadata": {
  "kernelspec": {
   "display_name": "base",
   "language": "python",
   "name": "python3"
  },
  "language_info": {
   "codemirror_mode": {
    "name": "ipython",
    "version": 3
   },
   "file_extension": ".py",
   "mimetype": "text/x-python",
   "name": "python",
   "nbconvert_exporter": "python",
   "pygments_lexer": "ipython3",
   "version": "3.12.4"
  }
 },
 "nbformat": 4,
 "nbformat_minor": 2
}
